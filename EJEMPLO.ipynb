{
  "nbformat": 4,
  "nbformat_minor": 0,
  "metadata": {
    "colab": {
      "name": "EJEMPLO.ipynb",
      "provenance": [],
      "collapsed_sections": [],
      "authorship_tag": "ABX9TyNydQMgb1ANxdWcJfm/AZ83",
      "include_colab_link": true
    },
    "kernelspec": {
      "name": "python3",
      "display_name": "Python 3"
    },
    "language_info": {
      "name": "python"
    }
  },
  "cells": [
    {
      "cell_type": "markdown",
      "metadata": {
        "id": "view-in-github",
        "colab_type": "text"
      },
      "source": [
        "<a href=\"https://colab.research.google.com/github/mariagarnica/_mineria/blob/main/EJEMPLO.ipynb\" target=\"_parent\"><img src=\"https://colab.research.google.com/assets/colab-badge.svg\" alt=\"Open In Colab\"/></a>"
      ]
    },
    {
      "cell_type": "markdown",
      "metadata": {
        "id": "QiG3kfxpK3hY"
      },
      "source": [
        "# **Ejercicio 1**\n",
        "Realiza una variable con tu matricula y realiza una secuencia"
      ]
    },
    {
      "cell_type": "code",
      "metadata": {
        "colab": {
          "base_uri": "https://localhost:8080/"
        },
        "id": "TZvMpDEnK2z3",
        "outputId": "6be10eff-4c83-4808-fae0-8e1895f01bdf"
      },
      "source": [
        "a= int(input(\"Introduce tu matricula: \")) #Int es para numeros\n",
        "b= str(input(\"Introduce tu nombre: \"))    #str para alfanumerico\n",
        "\n",
        "print(a,b)"
      ],
      "execution_count": null,
      "outputs": [
        {
          "output_type": "stream",
          "text": [
            "Introduce tu matricula: 1851600\n",
            "Introduce tu nombre: Maria Fernanda Garnica\n",
            "1851600 Maria Fernanda Garnica\n"
          ],
          "name": "stdout"
        }
      ]
    },
    {
      "cell_type": "markdown",
      "metadata": {
        "id": "ZtXcXD9hNF_8"
      },
      "source": [
        "# **Ejercicio 2** \n",
        "Pidiendo dos numeros, hacer una calculadora con funcion de while\n"
      ]
    },
    {
      "cell_type": "code",
      "metadata": {
        "colab": {
          "base_uri": "https://localhost:8080/"
        },
        "id": "kNhRjBTjUIOD",
        "outputId": "4e477032-1c31-4bda-d3d4-32237ca776ee"
      },
      "source": [
        "print(\"A continuacion ingresa dos numeros para hacer un calculo\")\n",
        "a=int(input(\"Introduce el primer numero: \"))\n",
        "b=int(input(\"Introduce el segundo numero: \"))\n",
        "\n",
        "print(\" 1 Suma   2 Resta   3 Division   4 Multiplicacion\")\n",
        "c=int(input(\"Elige el numero del calculo a realizar: \"))\n",
        "\n",
        "while c == 1:\n",
        "  d= a+b\n",
        "  print(\"El resultado de la suma\", a, \"+\", b , \"es: \",d)\n",
        "  break\n",
        "\n",
        "while c==2:\n",
        "  d= a-b\n",
        "  print(\"El resultado de la resta\", a, \"-\", b , \"es: \",d)\n",
        "  break\n",
        "while c==3:\n",
        "  d= a/b\n",
        "  print(\"El resultado de la division\", a, \"/\", b , \"es: \",d)\n",
        "  break\n",
        "while c== 4:\n",
        "    d= a*b\n",
        "    print(\"El resultado de la multiplicacion\", a,\"*\",b,\"es: \", d)\n",
        "    break\n",
        "\n"
      ],
      "execution_count": null,
      "outputs": [
        {
          "output_type": "stream",
          "text": [
            "A continuacion ingresa dos numeros para hacer un calculo\n",
            "Introduce el primer numero: 25\n",
            "Introduce el segundo numero: 5\n",
            " 1 Suma   2 Resta   3 Division   4 Multiplicacion\n",
            "Elige el numero del calculo a realizar: 4\n",
            "El resultado de la multiplicacion 25 * 5 es:  125\n"
          ],
          "name": "stdout"
        }
      ]
    },
    {
      "cell_type": "markdown",
      "metadata": {
        "id": "T_mcduQ0UQKS"
      },
      "source": [
        "# **Ejercicio 3** \n",
        "Con loop while o for, realiza una lista de 10 numeros multiplos de 3, y después realiza una función de loop que sume todos los números dentro del arreglo."
      ]
    },
    {
      "cell_type": "code",
      "metadata": {
        "colab": {
          "base_uri": "https://localhost:8080/"
        },
        "id": "c_uvX7o1UYMC",
        "outputId": "29939926-1219-4015-bbf1-572b92b9016a"
      },
      "source": [
        "\n",
        "for i in range(3,33,3):\n",
        "  print(i)"
      ],
      "execution_count": null,
      "outputs": [
        {
          "output_type": "stream",
          "text": [
            "3\n",
            "6\n",
            "9\n",
            "12\n",
            "15\n",
            "18\n",
            "21\n",
            "24\n",
            "27\n",
            "30\n"
          ],
          "name": "stdout"
        }
      ]
    },
    {
      "cell_type": "code",
      "metadata": {
        "colab": {
          "base_uri": "https://localhost:8080/"
        },
        "id": "4_XIN8JnkWvi",
        "outputId": "cfd429bc-207f-46dc-a892-ee6352077d82"
      },
      "source": [
        "def sum_numbers(num1, num2):\n",
        "    total=0\n",
        "    for numbers in range(3,33,3):\n",
        "        total+=numbers\n",
        "    return (total)\n",
        "print(\"La suma de los numeros del 3 al 30 es: \",total)"
      ],
      "execution_count": null,
      "outputs": [
        {
          "output_type": "stream",
          "text": [
            "La suma de los numeros del 3 al 30 es:  165\n"
          ],
          "name": "stdout"
        }
      ]
    },
    {
      "cell_type": "markdown",
      "metadata": {
        "id": "Qv5DAn6QlWq3"
      },
      "source": [
        "# **Ejercicio 4** \n",
        "Con if else revisar si es par o impar"
      ]
    },
    {
      "cell_type": "code",
      "metadata": {
        "colab": {
          "base_uri": "https://localhost:8080/"
        },
        "id": "mm9MvX_5nn3W",
        "outputId": "b1e314b7-117d-4d20-bcaf-b68a1879e488"
      },
      "source": [
        "num = input(\"Introduce un número: \")\n",
        "num = int(num)\n",
        "if num == 0:\n",
        "    print (\"El número\", num, \"es par.\")\n",
        "elif num%2 == 0:\n",
        "    print (\"El numero\",num, \"es par\")\n",
        "else:\n",
        "    print (\"El numero\", num,\"es impar\")\n"
      ],
      "execution_count": null,
      "outputs": [
        {
          "output_type": "stream",
          "text": [
            "Introduce un número: 9\n",
            "El numero 9 es impar\n"
          ],
          "name": "stdout"
        }
      ]
    },
    {
      "cell_type": "markdown",
      "metadata": {
        "id": "ZanUEmxNptjZ"
      },
      "source": [
        "Revisar si es o no es numero primo"
      ]
    },
    {
      "cell_type": "code",
      "metadata": {
        "colab": {
          "base_uri": "https://localhost:8080/"
        },
        "id": "kOPTkdlfrlYk",
        "outputId": "1f285ec9-80eb-4c9f-b99b-8e89e00afb69"
      },
      "source": [
        "def primo(numero):\n",
        "    if numero == 0 or numero == 1 or numero == 4:\n",
        "        return False\n",
        "    for x in range(2, int(numero/2)):\n",
        "        if numero % x == 0:\n",
        "            return False\n",
        "    return True\n",
        "numero = int(input(\"Ingresa un número: \"))\n",
        "es_primo = primo(numero)\n",
        "if es_primo:\n",
        "\tprint(\"El numero es primo\")\n",
        "else:\n",
        "\tprint(\"El numero NO es primo\")\n"
      ],
      "execution_count": null,
      "outputs": [
        {
          "output_type": "stream",
          "text": [
            "Ingresa un número: 9\n",
            "El numero NO es primo\n"
          ],
          "name": "stdout"
        }
      ]
    },
    {
      "cell_type": "markdown",
      "metadata": {
        "id": "3flHC6SgtWht"
      },
      "source": [
        "# **Tuplas**\n",
        "**1.** Crear una variable flotante, integer, boleana y compleja e imprimir el tipo de variable que es."
      ]
    },
    {
      "cell_type": "code",
      "metadata": {
        "colab": {
          "base_uri": "https://localhost:8080/"
        },
        "id": "s7-A29i5MZpa",
        "outputId": "0d9bb938-27a6-4423-f1d3-19496aa858a0"
      },
      "source": [
        "type(True)\n",
        "print(\"La variable True es \",type(True))\n",
        "\n",
        "x = 1\n",
        "print(\"La variable x= \", x, \"es \",type(x))\n",
        "\n",
        "y= 2.1\n",
        "print(\"La variable y= \", y, \"es \",type(y))\n",
        "\n",
        "z= 10.3j\n",
        "print(\"La variable z= \", z, \"es \",type(z))"
      ],
      "execution_count": null,
      "outputs": [
        {
          "output_type": "stream",
          "text": [
            "La variable True es  <class 'bool'>\n",
            "La variable x=  1 es  <class 'int'>\n",
            "La variable y=  2.1 es  <class 'float'>\n",
            "La variable z=  10.3j es  <class 'complex'>\n"
          ],
          "name": "stdout"
        }
      ]
    },
    {
      "cell_type": "markdown",
      "metadata": {
        "id": "IOj9n32vcD6_"
      },
      "source": [
        "**2.** Crear una tupla con valores enteros imprimir el primer y ultimo valor."
      ]
    },
    {
      "cell_type": "code",
      "metadata": {
        "colab": {
          "base_uri": "https://localhost:8080/"
        },
        "id": "fvxWxYeecIhd",
        "outputId": "55be806f-bdda-42b3-f8b0-c4b9a8097798"
      },
      "source": [
        "a=(1,2,3,4,5,6,7,8,9)\n",
        "\n",
        "print(\"El numero mayor de la tupla es: \", max(a))\n",
        "print(\"El numero menor de la tupla es: \", min(a))\n"
      ],
      "execution_count": null,
      "outputs": [
        {
          "output_type": "stream",
          "text": [
            "El numero mayor de la tupla es:  9\n",
            "El numero menor de la tupla es:  1\n"
          ],
          "name": "stdout"
        }
      ]
    },
    {
      "cell_type": "markdown",
      "metadata": {
        "id": "fLUdcQmIgVWQ"
      },
      "source": [
        "**3.** Añadir 3 valores de string a la tupla."
      ]
    },
    {
      "cell_type": "code",
      "metadata": {
        "colab": {
          "base_uri": "https://localhost:8080/"
        },
        "id": "_LTS0J0Wgary",
        "outputId": "5e9700da-d4a6-4bc6-94b8-ecbed4c5a198"
      },
      "source": [
        "a = (1, 2, 3)\n",
        "print(\"Tupla 1: \", a)\n",
        "b = (\"a\",\"b\",\"c\")\n",
        "print(\"Tupla 2: \", b)\n",
        "tuple_c = a + b\n",
        "\n",
        "print(\"Resultado de la suba de las tuplas a + b: \",tuple_c)"
      ],
      "execution_count": null,
      "outputs": [
        {
          "output_type": "stream",
          "text": [
            "Tupla 1:  (1, 2, 3)\n",
            "Tupla 2:  ('a', 'b', 'c')\n",
            "Resultado de la suba de las tuplas a+b:  (1, 2, 3, 'a', 'b', 'c')\n"
          ],
          "name": "stdout"
        }
      ]
    },
    {
      "cell_type": "markdown",
      "metadata": {
        "id": "mb42sFjAgcV_"
      },
      "source": [
        "**4.** Verificar si una variable existe dentro de la tupla."
      ]
    },
    {
      "cell_type": "code",
      "metadata": {
        "colab": {
          "base_uri": "https://localhost:8080/"
        },
        "id": "Cyz0TNWjjUFN",
        "outputId": "a88e131d-3153-44b0-a78e-fdeee94662db"
      },
      "source": [
        "a = (\"perro\", \"gato\", \"conejo\")\n",
        "if \"perro\" in a: \n",
        "    print(\"perro  existe dentro de tupla\")"
      ],
      "execution_count": null,
      "outputs": [
        {
          "output_type": "stream",
          "text": [
            "perro  existe dentro de tupla\n"
          ],
          "name": "stdout"
        }
      ]
    },
    {
      "cell_type": "markdown",
      "metadata": {
        "id": "uyK5mLRIj4N4"
      },
      "source": [
        "# **Listas**\n",
        "**1.** Crear una lista con 40 elementos aleatorios enteros."
      ]
    },
    {
      "cell_type": "code",
      "metadata": {
        "colab": {
          "base_uri": "https://localhost:8080/"
        },
        "id": "X-Veu8xaj_BN",
        "outputId": "c2786a15-e977-47c7-e382-1d30d6dac939"
      },
      "source": [
        "import random\n",
        "def listaAleatorios(n):\n",
        "      lista = [0]  * n\n",
        "      for i in range(n):\n",
        "          lista[i] = random.random()\n",
        "      return lista\n",
        "\n",
        "n= int(input(\"Ingrese cuantos numeros aleatorios desea obtener: \"))\n",
        "aleatorios=listaAleatorios(n)\n",
        "print(aleatorios)"
      ],
      "execution_count": null,
      "outputs": [
        {
          "output_type": "stream",
          "text": [
            "Ingrese cuantos numeros aleatorios desea obtener: 40\n",
            "[0.9697954943001129, 0.199520482701931, 0.8973778365707178, 0.460296134066128, 0.6549584167900723, 0.9001402171215571, 0.7742038888794409, 0.7880888516618004, 0.9204191114232708, 0.5044484957324639, 0.6698942043206952, 0.762968488037988, 0.7866495667524261, 0.0374277720233388, 0.8808198417308175, 0.3492718630660696, 0.16632570529802426, 0.08106001506095128, 0.8158531051779707, 0.3395754116848869, 0.3751444418346941, 0.21709701738424458, 0.47197902044543694, 0.42771526521607195, 0.9920413702620988, 0.2277329387111463, 0.9183827760325665, 0.10229487604699017, 0.09567008962258838, 0.7342031378327405, 0.413705512633461, 0.48584843867870586, 0.9865277781242052, 0.3288081455873335, 0.42197628154061906, 0.09418488116791646, 0.2401401291359061, 0.4853602264443284, 0.007078666871888628, 0.48114081136504183]\n"
          ],
          "name": "stdout"
        }
      ]
    },
    {
      "cell_type": "markdown",
      "metadata": {
        "id": "XMZX8SDzdb-4"
      },
      "source": [
        "**2.** Con una funcion (def) crear dos listas nuevas a partir de la lista creada por numeros aleatorios, en la cual en una esten los elementos pares, y en la otra los elementos impares."
      ]
    },
    {
      "cell_type": "code",
      "metadata": {
        "colab": {
          "base_uri": "https://localhost:8080/"
        },
        "id": "_6WEPJVldhuq",
        "outputId": "d074e699-9347-4efd-fb5a-9e8c8934ee9a"
      },
      "source": [
        "import random\n",
        "list1=[]\n",
        "i=1\n",
        "while i<=10:\n",
        "  lista.append(random.randint(1,10))\n",
        "  i=i+1\n",
        "class f: #Función\n",
        "  def parimp(Agregar):\n",
        "    pares=[] \n",
        "    impares=[] \n",
        "    j=0\n",
        "    while j<=len(Agregar)-1:\n",
        "      if Agregar[j]%2==0:\n",
        "        pares.append(Agregar[j])\n",
        "      else:\n",
        "        impares.append(Agregar[j])\n",
        "      j=j+1\n",
        "    print(\"\\n impares: \",impares)\n",
        "    print(\"\\n pares: \",pares)\n",
        "\n",
        "f.parimp(lista)"
      ],
      "execution_count": null,
      "outputs": [
        {
          "output_type": "stream",
          "text": [
            "\n",
            " impares:  [49, 91, 23, 31, 25, 95, 85, 47, 69, 79, 93, 17, 89, 61, 61, 47, 77, 73, 25, 7, 13, 21, 1, 11, 11, 15, 11, 7, 5, 7, 11, 1, 3, 3, 7, 5, 3, 5, 7, 7, 3, 5, 5, 7, 5, 7, 9, 9, 1, 3, 1, 5, 7, 7, 1, 1, 5, 1, 9, 1, 5, 5, 7, 9, 5, 5]\n",
            "\n",
            " pares:  [94, 66, 50, 76, 58, 30, 32, 98, 66, 98, 56, 38, 18, 82, 96, 24, 70, 88, 14, 6, 20, 12, 58, 32, 100, 12, 24, 84, 12, 72, 68, 12, 20, 8, 10, 22, 6, 2, 4, 4, 6, 4, 8, 4, 10, 8, 4, 6, 6, 4, 4, 10, 6, 10, 2, 4, 4, 10, 8, 6, 4, 6, 10, 8]\n"
          ],
          "name": "stdout"
        }
      ]
    },
    {
      "cell_type": "markdown",
      "metadata": {
        "id": "4bM1Essjds-f"
      },
      "source": [
        "**3.** Crear dos variables con la longitud de ambas listas nuevas e imprimir las variables."
      ]
    },
    {
      "cell_type": "code",
      "metadata": {
        "colab": {
          "base_uri": "https://localhost:8080/",
          "height": 350
        },
        "id": "yEutZZZZdxkB",
        "outputId": "dd25569e-44f8-4baa-9323-e254d620ac26"
      },
      "source": [
        ""
      ],
      "execution_count": null,
      "outputs": [
        {
          "output_type": "error",
          "ename": "NameError",
          "evalue": "ignored",
          "traceback": [
            "\u001b[0;31m---------------------------------------------------------------------------\u001b[0m",
            "\u001b[0;31mNameError\u001b[0m                                 Traceback (most recent call last)",
            "\u001b[0;32m<ipython-input-25-f5aec506fef5>\u001b[0m in \u001b[0;36m<module>\u001b[0;34m()\u001b[0m\n\u001b[1;32m      5\u001b[0m   \u001b[0mlista\u001b[0m\u001b[0;34m.\u001b[0m\u001b[0mappend\u001b[0m\u001b[0;34m(\u001b[0m\u001b[0mrandom\u001b[0m\u001b[0;34m.\u001b[0m\u001b[0mrandint\u001b[0m\u001b[0;34m(\u001b[0m\u001b[0;36m1\u001b[0m\u001b[0;34m,\u001b[0m\u001b[0;36m10\u001b[0m\u001b[0;34m)\u001b[0m\u001b[0;34m)\u001b[0m\u001b[0;34m\u001b[0m\u001b[0;34m\u001b[0m\u001b[0m\n\u001b[1;32m      6\u001b[0m   \u001b[0mi\u001b[0m\u001b[0;34m=\u001b[0m\u001b[0mi\u001b[0m\u001b[0;34m+\u001b[0m\u001b[0;36m1\u001b[0m\u001b[0;34m\u001b[0m\u001b[0;34m\u001b[0m\u001b[0m\n\u001b[0;32m----> 7\u001b[0;31m \u001b[0;32mclass\u001b[0m \u001b[0mf\u001b[0m\u001b[0;34m:\u001b[0m \u001b[0;31m#Función\u001b[0m\u001b[0;34m\u001b[0m\u001b[0;34m\u001b[0m\u001b[0m\n\u001b[0m\u001b[1;32m      8\u001b[0m   \u001b[0;32mdef\u001b[0m \u001b[0mparimp\u001b[0m\u001b[0;34m(\u001b[0m\u001b[0mAgregar\u001b[0m\u001b[0;34m)\u001b[0m\u001b[0;34m:\u001b[0m\u001b[0;34m\u001b[0m\u001b[0;34m\u001b[0m\u001b[0m\n\u001b[1;32m      9\u001b[0m     \u001b[0mpares\u001b[0m\u001b[0;34m=\u001b[0m\u001b[0;34m[\u001b[0m\u001b[0;34m]\u001b[0m\u001b[0;34m\u001b[0m\u001b[0;34m\u001b[0m\u001b[0m\n",
            "\u001b[0;32m<ipython-input-25-f5aec506fef5>\u001b[0m in \u001b[0;36mf\u001b[0;34m()\u001b[0m\n\u001b[1;32m     16\u001b[0m         \u001b[0mimpares\u001b[0m\u001b[0;34m.\u001b[0m\u001b[0mappend\u001b[0m\u001b[0;34m(\u001b[0m\u001b[0mAgregar\u001b[0m\u001b[0;34m[\u001b[0m\u001b[0mj\u001b[0m\u001b[0;34m]\u001b[0m\u001b[0;34m)\u001b[0m\u001b[0;34m\u001b[0m\u001b[0;34m\u001b[0m\u001b[0m\n\u001b[1;32m     17\u001b[0m       \u001b[0mj\u001b[0m\u001b[0;34m=\u001b[0m\u001b[0mj\u001b[0m\u001b[0;34m+\u001b[0m\u001b[0;36m1\u001b[0m\u001b[0;34m\u001b[0m\u001b[0;34m\u001b[0m\u001b[0m\n\u001b[0;32m---> 18\u001b[0;31m   \u001b[0mprint\u001b[0m\u001b[0;34m(\u001b[0m\u001b[0;34m\"\\n impares: \"\u001b[0m\u001b[0;34m,\u001b[0m\u001b[0mlen\u001b[0m\u001b[0;34m(\u001b[0m\u001b[0mimpares\u001b[0m\u001b[0;34m)\u001b[0m\u001b[0;34m)\u001b[0m\u001b[0;34m\u001b[0m\u001b[0;34m\u001b[0m\u001b[0m\n\u001b[0m\u001b[1;32m     19\u001b[0m \u001b[0mf\u001b[0m\u001b[0;34m.\u001b[0m\u001b[0mparimp\u001b[0m\u001b[0;34m(\u001b[0m\u001b[0mlista\u001b[0m\u001b[0;34m)\u001b[0m\u001b[0;34m\u001b[0m\u001b[0;34m\u001b[0m\u001b[0m\n\u001b[1;32m     20\u001b[0m \u001b[0;34m\u001b[0m\u001b[0m\n",
            "\u001b[0;31mNameError\u001b[0m: name 'impares' is not defined"
          ]
        }
      ]
    },
    {
      "cell_type": "markdown",
      "metadata": {
        "id": "S14UMr3kd_2_"
      },
      "source": [
        "#**Diccionarios**"
      ]
    },
    {
      "cell_type": "markdown",
      "metadata": {
        "id": "gWHvNy6OeHd_"
      },
      "source": [
        "**1.** Crear un diccionario de 6 personas que conozcas con su primer nombre y su edad."
      ]
    },
    {
      "cell_type": "code",
      "metadata": {
        "colab": {
          "base_uri": "https://localhost:8080/"
        },
        "id": "qzO8V0WIeOi-",
        "outputId": "64867ed7-f0b0-4796-af0b-5de67af658d1"
      },
      "source": [
        "a={'Alejandro':10,'Miranda':20,'Valeria':37,'Juan':19,'Marco':12,'Sebastian':38}\n",
        "print(a)"
      ],
      "execution_count": null,
      "outputs": [
        {
          "output_type": "stream",
          "text": [
            "{'Alejandro': 10, 'Miranda': 20, 'Valeria': 37, 'Juan': 19, 'Marco': 12, 'Sebastian': 38}\n"
          ],
          "name": "stdout"
        }
      ]
    },
    {
      "cell_type": "markdown",
      "metadata": {
        "id": "J_FJUGeOeQse"
      },
      "source": [
        "**2** Crear una lista con los valores de la edad y reacomodar la lista de menor a mayor valor."
      ]
    },
    {
      "cell_type": "code",
      "metadata": {
        "colab": {
          "base_uri": "https://localhost:8080/"
        },
        "id": "Kj-gTBBMeVJP",
        "outputId": "2540f17b-bb79-4b1f-e658-be8457e89a15"
      },
      "source": [
        "edades=list(a.values())\n",
        "edades.sort()\n",
        "print(edades)"
      ],
      "execution_count": null,
      "outputs": [
        {
          "output_type": "stream",
          "text": [
            "[10, 12, 19, 20, 37, 38]\n"
          ],
          "name": "stdout"
        }
      ]
    },
    {
      "cell_type": "markdown",
      "metadata": {
        "id": "qwrodb1IeVbe"
      },
      "source": [
        "**3.** Usando el diccionario y un loop, imprimir solo los nombres."
      ]
    },
    {
      "cell_type": "code",
      "metadata": {
        "colab": {
          "base_uri": "https://localhost:8080/"
        },
        "id": "0xhdyF2Teajl",
        "outputId": "382d3525-28fa-4d3c-be20-c65e6f4d8702"
      },
      "source": [
        "nombres=list(a.keys())\n",
        "for i in range(0,len(nombres)):\n",
        "  print(nombres[i])"
      ],
      "execution_count": null,
      "outputs": [
        {
          "output_type": "stream",
          "text": [
            "Alejandro\n",
            "Miranda\n",
            "Valeria\n",
            "Juan\n",
            "Marco\n",
            "Sebastian\n"
          ],
          "name": "stdout"
        }
      ]
    },
    {
      "cell_type": "markdown",
      "metadata": {
        "id": "spqvUh_tea7X"
      },
      "source": [
        "**4.** Añadir dos personas nuevas a tu diccionario, incluyendo edad."
      ]
    },
    {
      "cell_type": "code",
      "metadata": {
        "colab": {
          "base_uri": "https://localhost:8080/"
        },
        "id": "5czZtoswegOF",
        "outputId": "13c09a9a-d64b-4a46-cd80-69e1590ebba3"
      },
      "source": [
        "a['Maria']=21\n",
        "a['Norma']=54\n",
        "print(a)"
      ],
      "execution_count": null,
      "outputs": [
        {
          "output_type": "stream",
          "text": [
            "{'Alejandro': 10, 'Miranda': 20, 'Valeria': 37, 'Juan': 19, 'Marco': 12, 'Sebastian': 38, 'Maria': 21, 'Norma': 54}\n"
          ],
          "name": "stdout"
        }
      ]
    },
    {
      "cell_type": "markdown",
      "metadata": {
        "id": "3M2OSssgehLM"
      },
      "source": [
        "# **Set**"
      ]
    },
    {
      "cell_type": "markdown",
      "metadata": {
        "id": "gDUENGr1eo0w"
      },
      "source": [
        "**1.** Crea un set con 100 numeros aleatorios enteros del 1 al 25."
      ]
    },
    {
      "cell_type": "code",
      "metadata": {
        "colab": {
          "base_uri": "https://localhost:8080/"
        },
        "id": "u7aUwlzdeszc",
        "outputId": "5a6f961e-35e0-40c5-d1da-8773c781d50c"
      },
      "source": [
        "a = set()\n",
        "for i in range(100):\n",
        "  a.add(random.randint(1,25))\n",
        "\n",
        "print(a)"
      ],
      "execution_count": null,
      "outputs": [
        {
          "output_type": "stream",
          "text": [
            "{1, 2, 3, 4, 5, 6, 7, 8, 9, 10, 11, 12, 13, 14, 15, 16, 17, 18, 19, 20, 21, 22, 23, 24, 25}\n"
          ],
          "name": "stdout"
        }
      ]
    },
    {
      "cell_type": "markdown",
      "metadata": {
        "id": "XCi5_Xv4es_N"
      },
      "source": [
        "**2.** Comprueba la longitud de tu set."
      ]
    },
    {
      "cell_type": "code",
      "metadata": {
        "colab": {
          "base_uri": "https://localhost:8080/"
        },
        "id": "_HpKzO0Kexr2",
        "outputId": "a3162405-e1e4-494a-d328-23b3b360a5b0"
      },
      "source": [
        "len(a)"
      ],
      "execution_count": null,
      "outputs": [
        {
          "output_type": "execute_result",
          "data": {
            "text/plain": [
              "25"
            ]
          },
          "metadata": {},
          "execution_count": 55
        }
      ]
    },
    {
      "cell_type": "markdown",
      "metadata": {
        "id": "lG7yagW8eyBU"
      },
      "source": [
        "**3.** Crea una lista de 5 numeros aleatorios del 1 al 10 y comprueba si cada valor aparece en el set inicial."
      ]
    },
    {
      "cell_type": "code",
      "metadata": {
        "colab": {
          "base_uri": "https://localhost:8080/"
        },
        "id": "tcou2ha-e2YP",
        "outputId": "a83e19e0-dd7d-4beb-b35f-f1e8228848ab"
      },
      "source": [
        "b=[random.randint(1,5) for _ in range(5)]\n",
        "for i in range(0,5):\n",
        "  if b[i] in a:\n",
        "    print(\"El elemento \",b[i], \"se encuentra en el conjunto\")\n",
        "\n",
        " "
      ],
      "execution_count": null,
      "outputs": [
        {
          "output_type": "stream",
          "text": [
            "El elemento  2 se encuentra en el conjunto\n",
            "El elemento  3 se encuentra en el conjunto\n",
            "El elemento  1 se encuentra en el conjunto\n",
            "El elemento  4 se encuentra en el conjunto\n",
            "El elemento  1 se encuentra en el conjunto\n"
          ],
          "name": "stdout"
        }
      ]
    },
    {
      "cell_type": "code",
      "metadata": {
        "colab": {
          "base_uri": "https://localhost:8080/"
        },
        "id": "-2kUBZmwnRML",
        "outputId": "a96d6942-b514-4c6c-fd06-3e6c28f3776b"
      },
      "source": [
        " print(\"El conjunto es: \",b)"
      ],
      "execution_count": null,
      "outputs": [
        {
          "output_type": "stream",
          "text": [
            "El conjunto es:  [2, 3, 1, 4, 1]\n"
          ],
          "name": "stdout"
        }
      ]
    }
  ]
}